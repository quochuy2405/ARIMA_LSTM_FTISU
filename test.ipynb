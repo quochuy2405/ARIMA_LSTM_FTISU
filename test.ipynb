{
 "cells": [
  {
   "cell_type": "code",
   "execution_count": 96,
   "metadata": {},
   "outputs": [
    {
     "name": "stdout",
     "output_type": "stream",
     "text": [
      "WARNING:tensorflow:Model was constructed with shape (None, 3, 1) for input KerasTensor(type_spec=TensorSpec(shape=(None, 3, 1), dtype=tf.float32, name='lstm_input'), name='lstm_input', description=\"created by layer 'lstm_input'\"), but it was called on an input with incompatible shape (None, 1, 1).\n"
     ]
    },
    {
     "name": "stderr",
     "output_type": "stream",
     "text": [
      "c:\\Users\\19521\\AppData\\Local\\Programs\\Python\\Python310\\lib\\site-packages\\statsmodels\\tsa\\base\\tsa_model.py:836: ValueWarning: No supported index is available. Prediction results will be given with an integer index beginning at `start`.\n",
      "  return get_prediction_index(\n",
      "c:\\Users\\19521\\AppData\\Local\\Programs\\Python\\Python310\\lib\\site-packages\\statsmodels\\tsa\\base\\tsa_model.py:836: FutureWarning: No supported index is available. In the next version, calling this method in a model without a supported index will result in an exception.\n",
      "  return get_prediction_index(\n"
     ]
    },
    {
     "name": "stdout",
     "output_type": "stream",
     "text": [
      "1/1 [==============================] - 1s 518ms/step\n",
      "WARNING:tensorflow:Model was constructed with shape (None, 3, 1) for input KerasTensor(type_spec=TensorSpec(shape=(None, 3, 1), dtype=tf.float32, name='lstm_input'), name='lstm_input', description=\"created by layer 'lstm_input'\"), but it was called on an input with incompatible shape (None, 1, 1).\n"
     ]
    },
    {
     "name": "stderr",
     "output_type": "stream",
     "text": [
      "c:\\Users\\19521\\AppData\\Local\\Programs\\Python\\Python310\\lib\\site-packages\\statsmodels\\tsa\\base\\tsa_model.py:836: ValueWarning: No supported index is available. Prediction results will be given with an integer index beginning at `start`.\n",
      "  return get_prediction_index(\n",
      "c:\\Users\\19521\\AppData\\Local\\Programs\\Python\\Python310\\lib\\site-packages\\statsmodels\\tsa\\base\\tsa_model.py:836: FutureWarning: No supported index is available. In the next version, calling this method in a model without a supported index will result in an exception.\n",
      "  return get_prediction_index(\n"
     ]
    },
    {
     "name": "stdout",
     "output_type": "stream",
     "text": [
      "1/1 [==============================] - 0s 234ms/step\n",
      "WARNING:tensorflow:Model was constructed with shape (None, 3, 1) for input KerasTensor(type_spec=TensorSpec(shape=(None, 3, 1), dtype=tf.float32, name='lstm_2_input'), name='lstm_2_input', description=\"created by layer 'lstm_2_input'\"), but it was called on an input with incompatible shape (None, 1, 1).\n"
     ]
    },
    {
     "name": "stderr",
     "output_type": "stream",
     "text": [
      "c:\\Users\\19521\\AppData\\Local\\Programs\\Python\\Python310\\lib\\site-packages\\statsmodels\\tsa\\base\\tsa_model.py:836: ValueWarning: No supported index is available. Prediction results will be given with an integer index beginning at `start`.\n",
      "  return get_prediction_index(\n",
      "c:\\Users\\19521\\AppData\\Local\\Programs\\Python\\Python310\\lib\\site-packages\\statsmodels\\tsa\\base\\tsa_model.py:836: FutureWarning: No supported index is available. In the next version, calling this method in a model without a supported index will result in an exception.\n",
      "  return get_prediction_index(\n"
     ]
    },
    {
     "name": "stdout",
     "output_type": "stream",
     "text": [
      "1/1 [==============================] - 0s 222ms/step\n",
      "WARNING:tensorflow:Model was constructed with shape (None, 3, 1) for input KerasTensor(type_spec=TensorSpec(shape=(None, 3, 1), dtype=tf.float32, name='lstm_input'), name='lstm_input', description=\"created by layer 'lstm_input'\"), but it was called on an input with incompatible shape (None, 1, 1).\n"
     ]
    },
    {
     "name": "stderr",
     "output_type": "stream",
     "text": [
      "c:\\Users\\19521\\AppData\\Local\\Programs\\Python\\Python310\\lib\\site-packages\\statsmodels\\tsa\\base\\tsa_model.py:836: ValueWarning: No supported index is available. Prediction results will be given with an integer index beginning at `start`.\n",
      "  return get_prediction_index(\n",
      "c:\\Users\\19521\\AppData\\Local\\Programs\\Python\\Python310\\lib\\site-packages\\statsmodels\\tsa\\base\\tsa_model.py:836: FutureWarning: No supported index is available. In the next version, calling this method in a model without a supported index will result in an exception.\n",
      "  return get_prediction_index(\n"
     ]
    },
    {
     "name": "stdout",
     "output_type": "stream",
     "text": [
      "1/1 [==============================] - 0s 226ms/step\n"
     ]
    }
   ],
   "source": [
    "import datetime as dt\n",
    "import pandas as pd\n",
    "import numpy as np\n",
    "import pickle\n",
    "import tensorflow as tf\n",
    "from statsmodels.tsa.arima.model import ARIMA\n",
    "\n",
    "# List of column names\n",
    "field_names = ['formatted_date', 'high', 'low', 'open', 'close', 'volume', 'adjclose']\n",
    "\n",
    "cols_y_close = ['close']\n",
    "cols_y_open = ['open']\n",
    "cols_y_high = ['high']\n",
    "cols_y_low = ['low']\n",
    "\n",
    "def load_model(filepath):\n",
    "    with open(filepath, 'rb') as file:\n",
    "        model = pickle.load(file)\n",
    "    return model\n",
    "\n",
    "def load_error_model(filepath):\n",
    "    model = tf.keras.models.load_model(filepath)\n",
    "    return model\n",
    "\n",
    "# Prepare variables\n",
    "def predict(model, error_model, last_value):\n",
    "    predict_price = model.predict(n_periods=1)\n",
    "    predict_error = error_model.predict(np.array([[predict_price.values[0]]]))[0]\n",
    "    return predict_price.values[0] + predict_error\n",
    "\n",
    "# Load dataframe\n",
    "df = pd.read_csv(\"./data/clean/btc.csv\")\n",
    "df['formatted_date'] = pd.to_datetime(df['formatted_date'])\n",
    "df.set_index(\"formatted_date\", inplace=True)\n",
    "\n",
    "# Load models\n",
    "model_close = load_model(\"./models/close/arima_model.pkl\")\n",
    "model_open = load_model(\"./models/open/arima_model.pkl\")\n",
    "model_high = load_model(\"./models/high/arima_model.pkl\")\n",
    "model_low = load_model(\"./models/low/arima_model.pkl\")\n",
    "\n",
    "model_error_close = load_error_model(\"./models/close/lstm.h5\")\n",
    "model_error_open = load_error_model(\"./models/open/lstm.h5\")\n",
    "model_error_high = load_error_model(\"./models/high/lstm.h5\")\n",
    "model_error_low = load_error_model(\"./models/low/lstm.h5\")\n",
    "\n",
    "n_periods = 1\n",
    "for i in range(n_periods):\n",
    "    next_day = (dt.date.today() + dt.timedelta(days=i + 1)).strftime(\"%Y-%m-%d\")\n",
    "    row = [\n",
    "        next_day,\n",
    "        predict(model_high, model_error_high, df['high'].values[-1])[0],\n",
    "        predict(model_low, model_error_low, df['low'].values[-1])[0],\n",
    "        predict(model_open, model_error_open, df['open'].values[-1])[0],\n",
    "        predict(model_close, model_error_close, df['close'].values[-1])[0],\n",
    "        0,\n",
    "        0\n",
    "    ]\n",
    "    df_pred = pd.DataFrame([row], columns=field_names)\n",
    "    df = pd.concat([df, df_pred])\n",
    "\n",
    "df.to_csv('final_pred_arima_lstm.csv', index=False)\n"
   ]
  }
 ],
 "metadata": {
  "kernelspec": {
   "display_name": "Python 3",
   "language": "python",
   "name": "python3"
  },
  "language_info": {
   "codemirror_mode": {
    "name": "ipython",
    "version": 3
   },
   "file_extension": ".py",
   "mimetype": "text/x-python",
   "name": "python",
   "nbconvert_exporter": "python",
   "pygments_lexer": "ipython3",
   "version": "3.10.10"
  },
  "orig_nbformat": 4
 },
 "nbformat": 4,
 "nbformat_minor": 2
}
